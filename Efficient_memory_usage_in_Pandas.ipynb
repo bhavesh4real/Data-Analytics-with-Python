{
 "cells": [
  {
   "cell_type": "markdown",
   "id": "2c600b4a",
   "metadata": {},
   "source": [
    "## Efficient Memory usage in Pandas"
   ]
  },
  {
   "cell_type": "code",
   "execution_count": 1,
   "id": "1241b1fe",
   "metadata": {},
   "outputs": [],
   "source": [
    "import numpy as np\n",
    "import pandas as pd"
   ]
  },
  {
   "cell_type": "markdown",
   "id": "f275cf14",
   "metadata": {},
   "source": [
    "## Creating our dataframe."
   ]
  },
  {
   "cell_type": "code",
   "execution_count": 11,
   "id": "d2501932",
   "metadata": {},
   "outputs": [],
   "source": [
    "def get_data(size):\n",
    "    df = pd.DataFrame()\n",
    "    df['position'] = np.random.choice(['left','right','middle'],size)\n",
    "    df['age'] = np.random.randint(22,44,size)\n",
    "    df['team'] = np.random.choice(['Hawks','Bulls','Demons','Truckers','Vultures'],size)\n",
    "    df['win'] = np.random.choice(['Yes','No'],size)\n",
    "    df['prob'] = np.random.uniform(0,1,size)\n",
    "    return df"
   ]
  },
  {
   "cell_type": "code",
   "execution_count": 19,
   "id": "acaae19d",
   "metadata": {},
   "outputs": [
    {
     "name": "stdout",
     "output_type": "stream",
     "text": [
      "<class 'pandas.core.frame.DataFrame'>\n",
      "RangeIndex: 10000000 entries, 0 to 9999999\n",
      "Data columns (total 5 columns):\n",
      " #   Column    Dtype  \n",
      "---  ------    -----  \n",
      " 0   position  object \n",
      " 1   age       int32  \n",
      " 2   team      object \n",
      " 3   win       object \n",
      " 4   prob      float64\n",
      "dtypes: float64(1), int32(1), object(3)\n",
      "memory usage: 343.3+ MB\n"
     ]
    }
   ],
   "source": [
    "df_10m = get_data(10_000_000)\n",
    "df_10m.info()"
   ]
  },
  {
   "cell_type": "markdown",
   "id": "57a95c4b",
   "metadata": {},
   "source": [
    "As it can be seen that,10M data values are consuming a huge amount of memory space.(around 343.3mb).\n",
    "\n",
    "We can build the similar code in an effecient way.\n",
    "\n",
    "for this we'll use comparitively smaller size data, size 1M"
   ]
  },
  {
   "cell_type": "code",
   "execution_count": 20,
   "id": "10a788c7",
   "metadata": {},
   "outputs": [],
   "source": [
    "df_1m = get_data(1_000_000) "
   ]
  },
  {
   "cell_type": "code",
   "execution_count": 21,
   "id": "a61459e5",
   "metadata": {},
   "outputs": [
    {
     "name": "stdout",
     "output_type": "stream",
     "text": [
      "<class 'pandas.core.frame.DataFrame'>\n",
      "RangeIndex: 1000000 entries, 0 to 999999\n",
      "Data columns (total 5 columns):\n",
      " #   Column    Non-Null Count    Dtype  \n",
      "---  ------    --------------    -----  \n",
      " 0   position  1000000 non-null  object \n",
      " 1   age       1000000 non-null  int32  \n",
      " 2   team      1000000 non-null  object \n",
      " 3   win       1000000 non-null  object \n",
      " 4   prob      1000000 non-null  float64\n",
      "dtypes: float64(1), int32(1), object(3)\n",
      "memory usage: 34.3+ MB\n"
     ]
    }
   ],
   "source": [
    "df_1m.info()"
   ]
  },
  {
   "cell_type": "markdown",
   "id": "d737e078",
   "metadata": {},
   "source": [
    "So, this is consuming just 35mb of memory space but we can still attempt to reduce it and make our code more effecient.\n",
    "\n",
    "#### performing some group by operations on our data,\n",
    "And, let's see how much time it takes to execute."
   ]
  },
  {
   "cell_type": "code",
   "execution_count": 23,
   "id": "407df2a2",
   "metadata": {},
   "outputs": [
    {
     "name": "stdout",
     "output_type": "stream",
     "text": [
      "465 ms ± 14.6 ms per loop (mean ± std. dev. of 7 runs, 1 loop each)\n",
      "676 ms ± 10.1 ms per loop (mean ± std. dev. of 7 runs, 1 loop each)\n",
      "769 ms ± 10.4 ms per loop (mean ± std. dev. of 7 runs, 1 loop each)\n"
     ]
    }
   ],
   "source": [
    "%timeit df_1m['age_rank'] = df_1m.groupby(['team','position'])['age'].rank()\n",
    "%timeit df_1m['prob_rank'] = df_1m.groupby(['team','position'])['prob'].rank()\n",
    "%timeit df_1m['win_prob_rank'] = df_1m.groupby(['team','position','win'])['prob'].rank()"
   ]
  },
  {
   "cell_type": "code",
   "execution_count": 27,
   "id": "e96ed71e",
   "metadata": {},
   "outputs": [
    {
     "data": {
      "text/html": [
       "<div>\n",
       "<style scoped>\n",
       "    .dataframe tbody tr th:only-of-type {\n",
       "        vertical-align: middle;\n",
       "    }\n",
       "\n",
       "    .dataframe tbody tr th {\n",
       "        vertical-align: top;\n",
       "    }\n",
       "\n",
       "    .dataframe thead th {\n",
       "        text-align: right;\n",
       "    }\n",
       "</style>\n",
       "<table border=\"1\" class=\"dataframe\">\n",
       "  <thead>\n",
       "    <tr style=\"text-align: right;\">\n",
       "      <th></th>\n",
       "      <th>position</th>\n",
       "      <th>age</th>\n",
       "      <th>team</th>\n",
       "      <th>win</th>\n",
       "      <th>prob</th>\n",
       "      <th>age_rank</th>\n",
       "      <th>prob_rank</th>\n",
       "      <th>win_prob_rank</th>\n",
       "    </tr>\n",
       "  </thead>\n",
       "  <tbody>\n",
       "    <tr>\n",
       "      <th>0</th>\n",
       "      <td>left</td>\n",
       "      <td>40</td>\n",
       "      <td>Vultures</td>\n",
       "      <td>No</td>\n",
       "      <td>0.694980</td>\n",
       "      <td>56528.5</td>\n",
       "      <td>46792.0</td>\n",
       "      <td>23441.0</td>\n",
       "    </tr>\n",
       "    <tr>\n",
       "      <th>1</th>\n",
       "      <td>right</td>\n",
       "      <td>29</td>\n",
       "      <td>Bulls</td>\n",
       "      <td>Yes</td>\n",
       "      <td>0.674097</td>\n",
       "      <td>22777.0</td>\n",
       "      <td>44986.0</td>\n",
       "      <td>22753.0</td>\n",
       "    </tr>\n",
       "    <tr>\n",
       "      <th>2</th>\n",
       "      <td>right</td>\n",
       "      <td>32</td>\n",
       "      <td>Hawks</td>\n",
       "      <td>Yes</td>\n",
       "      <td>0.742484</td>\n",
       "      <td>31602.0</td>\n",
       "      <td>49483.0</td>\n",
       "      <td>24702.0</td>\n",
       "    </tr>\n",
       "    <tr>\n",
       "      <th>3</th>\n",
       "      <td>middle</td>\n",
       "      <td>28</td>\n",
       "      <td>Demons</td>\n",
       "      <td>Yes</td>\n",
       "      <td>0.244515</td>\n",
       "      <td>19862.5</td>\n",
       "      <td>16401.0</td>\n",
       "      <td>8183.0</td>\n",
       "    </tr>\n",
       "    <tr>\n",
       "      <th>4</th>\n",
       "      <td>left</td>\n",
       "      <td>27</td>\n",
       "      <td>Truckers</td>\n",
       "      <td>Yes</td>\n",
       "      <td>0.858566</td>\n",
       "      <td>16791.5</td>\n",
       "      <td>57277.0</td>\n",
       "      <td>28733.0</td>\n",
       "    </tr>\n",
       "  </tbody>\n",
       "</table>\n",
       "</div>"
      ],
      "text/plain": [
       "  position  age      team  win      prob  age_rank  prob_rank  win_prob_rank\n",
       "0     left   40  Vultures   No  0.694980   56528.5    46792.0        23441.0\n",
       "1    right   29     Bulls  Yes  0.674097   22777.0    44986.0        22753.0\n",
       "2    right   32     Hawks  Yes  0.742484   31602.0    49483.0        24702.0\n",
       "3   middle   28    Demons  Yes  0.244515   19862.5    16401.0         8183.0\n",
       "4     left   27  Truckers  Yes  0.858566   16791.5    57277.0        28733.0"
      ]
     },
     "execution_count": 27,
     "metadata": {},
     "output_type": "execute_result"
    }
   ],
   "source": [
    "df_1m.head()"
   ]
  },
  {
   "cell_type": "code",
   "execution_count": 28,
   "id": "902b7571",
   "metadata": {},
   "outputs": [
    {
     "name": "stdout",
     "output_type": "stream",
     "text": [
      "<class 'pandas.core.frame.DataFrame'>\n",
      "RangeIndex: 1000000 entries, 0 to 999999\n",
      "Data columns (total 8 columns):\n",
      " #   Column         Non-Null Count    Dtype  \n",
      "---  ------         --------------    -----  \n",
      " 0   position       1000000 non-null  object \n",
      " 1   age            1000000 non-null  int32  \n",
      " 2   team           1000000 non-null  object \n",
      " 3   win            1000000 non-null  object \n",
      " 4   prob           1000000 non-null  float64\n",
      " 5   age_rank       1000000 non-null  float64\n",
      " 6   prob_rank      1000000 non-null  float64\n",
      " 7   win_prob_rank  1000000 non-null  float64\n",
      "dtypes: float64(4), int32(1), object(3)\n",
      "memory usage: 57.2+ MB\n"
     ]
    }
   ],
   "source": [
    "df_1m.info()"
   ]
  },
  {
   "cell_type": "markdown",
   "id": "97b6f4ba",
   "metadata": {},
   "source": [
    "- position column is now just an object of string. But, from data understanding we can see that, it can be typecasted to category. so let's just do it first!"
   ]
  },
  {
   "cell_type": "code",
   "execution_count": 29,
   "id": "c04a8255",
   "metadata": {},
   "outputs": [
    {
     "name": "stdout",
     "output_type": "stream",
     "text": [
      "<class 'pandas.core.frame.DataFrame'>\n",
      "RangeIndex: 1000000 entries, 0 to 999999\n",
      "Data columns (total 8 columns):\n",
      " #   Column         Non-Null Count    Dtype   \n",
      "---  ------         --------------    -----   \n",
      " 0   position       1000000 non-null  category\n",
      " 1   age            1000000 non-null  int32   \n",
      " 2   team           1000000 non-null  object  \n",
      " 3   win            1000000 non-null  object  \n",
      " 4   prob           1000000 non-null  float64 \n",
      " 5   age_rank       1000000 non-null  float64 \n",
      " 6   prob_rank      1000000 non-null  float64 \n",
      " 7   win_prob_rank  1000000 non-null  float64 \n",
      "dtypes: category(1), float64(4), int32(1), object(2)\n",
      "memory usage: 50.5+ MB\n"
     ]
    }
   ],
   "source": [
    "df_1m['position'] = df_1m['position'].astype('category')\n",
    "df_1m.info()"
   ]
  },
  {
   "cell_type": "markdown",
   "id": "f73d48d1",
   "metadata": {},
   "source": [
    "Memory usage size dropped to around 50mb.\n",
    "\n",
    "Similar **Dropcasting** can be performed on team column."
   ]
  },
  {
   "cell_type": "code",
   "execution_count": 32,
   "id": "ea45ef2f",
   "metadata": {},
   "outputs": [
    {
     "name": "stdout",
     "output_type": "stream",
     "text": [
      "<class 'pandas.core.frame.DataFrame'>\n",
      "RangeIndex: 1000000 entries, 0 to 999999\n",
      "Data columns (total 8 columns):\n",
      " #   Column         Non-Null Count    Dtype   \n",
      "---  ------         --------------    -----   \n",
      " 0   position       1000000 non-null  category\n",
      " 1   age            1000000 non-null  int32   \n",
      " 2   team           1000000 non-null  category\n",
      " 3   win            1000000 non-null  object  \n",
      " 4   prob           1000000 non-null  float64 \n",
      " 5   age_rank       1000000 non-null  float64 \n",
      " 6   prob_rank      1000000 non-null  float64 \n",
      " 7   win_prob_rank  1000000 non-null  float64 \n",
      "dtypes: category(2), float64(4), int32(1), object(1)\n",
      "memory usage: 43.9+ MB\n"
     ]
    }
   ],
   "source": [
    "df_1m['team'] = df_1m['team'].astype('category')\n",
    "df_1m.info()"
   ]
  },
  {
   "cell_type": "markdown",
   "id": "67fe5cb6",
   "metadata": {},
   "source": [
    "more reduction in memory usage can be observed.\n",
    "\n",
    "Next, we work on the age column, which is an integer.**By default**, pandas store integers as **int64** values."
   ]
  },
  {
   "cell_type": "code",
   "execution_count": 33,
   "id": "3a2d76f4",
   "metadata": {},
   "outputs": [
    {
     "data": {
      "text/plain": [
       "0         40\n",
       "1         29\n",
       "2         32\n",
       "3         28\n",
       "4         27\n",
       "          ..\n",
       "999995    41\n",
       "999996    23\n",
       "999997    37\n",
       "999998    27\n",
       "999999    38\n",
       "Name: age, Length: 1000000, dtype: int32"
      ]
     },
     "execution_count": 33,
     "metadata": {},
     "output_type": "execute_result"
    }
   ],
   "source": [
    "df_1m['age']"
   ]
  },
  {
   "cell_type": "markdown",
   "id": "9f80d9d9",
   "metadata": {},
   "source": [
    "### Int Downcasting Value Range.\n",
    "- int8 can be stored from -128 to 127\n",
    "- int16 can be stored from -32768 to 32767\n",
    "- int64 can be stored from -9223372036854775808 to 9223372036854775807."
   ]
  },
  {
   "cell_type": "code",
   "execution_count": 35,
   "id": "c62ece64",
   "metadata": {},
   "outputs": [
    {
     "name": "stdout",
     "output_type": "stream",
     "text": [
      "<class 'pandas.core.frame.DataFrame'>\n",
      "RangeIndex: 1000000 entries, 0 to 999999\n",
      "Data columns (total 8 columns):\n",
      " #   Column         Non-Null Count    Dtype   \n",
      "---  ------         --------------    -----   \n",
      " 0   position       1000000 non-null  category\n",
      " 1   age            1000000 non-null  int8    \n",
      " 2   team           1000000 non-null  category\n",
      " 3   win            1000000 non-null  object  \n",
      " 4   prob           1000000 non-null  float64 \n",
      " 5   age_rank       1000000 non-null  float64 \n",
      " 6   prob_rank      1000000 non-null  float64 \n",
      " 7   win_prob_rank  1000000 non-null  float64 \n",
      "dtypes: category(2), float64(4), int8(1), object(1)\n",
      "memory usage: 41.0+ MB\n"
     ]
    }
   ],
   "source": [
    "#age column dtype is int32 and let's try downcast it\n",
    "df_1m['age'] = df_1m['age'].astype('int8')\n",
    "df_1m.info()"
   ]
  },
  {
   "cell_type": "code",
   "execution_count": 37,
   "id": "38bd5659",
   "metadata": {},
   "outputs": [
    {
     "data": {
      "text/plain": [
       "0         0.694980\n",
       "1         0.674097\n",
       "2         0.742484\n",
       "3         0.244515\n",
       "4         0.858566\n",
       "            ...   \n",
       "999995    0.435224\n",
       "999996    0.600249\n",
       "999997    0.040977\n",
       "999998    0.177359\n",
       "999999    0.238080\n",
       "Name: prob, Length: 1000000, dtype: float64"
      ]
     },
     "execution_count": 37,
     "metadata": {},
     "output_type": "execute_result"
    }
   ],
   "source": [
    "df_1m['prob']"
   ]
  },
  {
   "cell_type": "code",
   "execution_count": 39,
   "id": "faa9e874",
   "metadata": {},
   "outputs": [
    {
     "name": "stdout",
     "output_type": "stream",
     "text": [
      "<class 'pandas.core.frame.DataFrame'>\n",
      "RangeIndex: 1000000 entries, 0 to 999999\n",
      "Data columns (total 8 columns):\n",
      " #   Column         Non-Null Count    Dtype   \n",
      "---  ------         --------------    -----   \n",
      " 0   position       1000000 non-null  category\n",
      " 1   age            1000000 non-null  int8    \n",
      " 2   team           1000000 non-null  category\n",
      " 3   win            1000000 non-null  object  \n",
      " 4   prob           1000000 non-null  float32 \n",
      " 5   age_rank       1000000 non-null  float64 \n",
      " 6   prob_rank      1000000 non-null  float64 \n",
      " 7   win_prob_rank  1000000 non-null  float64 \n",
      "dtypes: category(2), float32(1), float64(3), int8(1), object(1)\n",
      "memory usage: 37.2+ MB\n"
     ]
    }
   ],
   "source": [
    "df_1m['prob'] = df_1m['prob'].astype('float32')\n",
    "df_1m.info()"
   ]
  },
  {
   "cell_type": "code",
   "execution_count": 41,
   "id": "a0069f90",
   "metadata": {},
   "outputs": [
    {
     "name": "stdout",
     "output_type": "stream",
     "text": [
      "<class 'pandas.core.frame.DataFrame'>\n",
      "RangeIndex: 1000000 entries, 0 to 999999\n",
      "Data columns (total 8 columns):\n",
      " #   Column         Non-Null Count    Dtype   \n",
      "---  ------         --------------    -----   \n",
      " 0   position       1000000 non-null  category\n",
      " 1   age            1000000 non-null  int8    \n",
      " 2   team           1000000 non-null  category\n",
      " 3   win            1000000 non-null  object  \n",
      " 4   prob           1000000 non-null  float32 \n",
      " 5   age_rank       1000000 non-null  float32 \n",
      " 6   prob_rank      1000000 non-null  float32 \n",
      " 7   win_prob_rank  1000000 non-null  float32 \n",
      "dtypes: category(2), float32(4), int8(1), object(1)\n",
      "memory usage: 25.7+ MB\n"
     ]
    }
   ],
   "source": [
    "df_1m['age_rank'] = df_1m['age_rank'].astype('float32')\n",
    "df_1m['prob_rank'] = df_1m['prob_rank'].astype('float32')\n",
    "df_1m['win_prob_rank'] =df_1m['win_prob_rank'].astype('float32')\n",
    "df_1m.info()"
   ]
  },
  {
   "cell_type": "markdown",
   "id": "dbb27cc5",
   "metadata": {},
   "source": [
    "### Casting bool types"
   ]
  },
  {
   "cell_type": "code",
   "execution_count": 43,
   "id": "21103b8b",
   "metadata": {},
   "outputs": [
    {
     "name": "stdout",
     "output_type": "stream",
     "text": [
      "<class 'pandas.core.frame.DataFrame'>\n",
      "RangeIndex: 1000000 entries, 0 to 999999\n",
      "Data columns (total 8 columns):\n",
      " #   Column         Non-Null Count    Dtype   \n",
      "---  ------         --------------    -----   \n",
      " 0   position       1000000 non-null  category\n",
      " 1   age            1000000 non-null  int8    \n",
      " 2   team           1000000 non-null  category\n",
      " 3   win            0 non-null        object  \n",
      " 4   prob           1000000 non-null  float32 \n",
      " 5   age_rank       1000000 non-null  float32 \n",
      " 6   prob_rank      1000000 non-null  float32 \n",
      " 7   win_prob_rank  1000000 non-null  float32 \n",
      "dtypes: category(2), float32(4), int8(1), object(1)\n",
      "memory usage: 25.7+ MB\n"
     ]
    }
   ],
   "source": [
    "df_1m['win'] = df_1m['win'].map({'Yes':True,'No':False})\n",
    "df_1m.info()"
   ]
  },
  {
   "cell_type": "markdown",
   "id": "d652e93d",
   "metadata": {},
   "source": [
    "- We have reduced the memory usage space for the same size data values from **35mb** to **25mb**."
   ]
  }
 ],
 "metadata": {
  "kernelspec": {
   "display_name": "Python 3 (ipykernel)",
   "language": "python",
   "name": "python3"
  },
  "language_info": {
   "codemirror_mode": {
    "name": "ipython",
    "version": 3
   },
   "file_extension": ".py",
   "mimetype": "text/x-python",
   "name": "python",
   "nbconvert_exporter": "python",
   "pygments_lexer": "ipython3",
   "version": "3.10.8"
  }
 },
 "nbformat": 4,
 "nbformat_minor": 5
}
