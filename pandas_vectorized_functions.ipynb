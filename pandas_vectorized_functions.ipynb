{
 "cells": [
  {
   "cell_type": "markdown",
   "id": "128653ea",
   "metadata": {},
   "source": [
    "## Speed up your pandas code!"
   ]
  },
  {
   "cell_type": "code",
   "execution_count": 1,
   "id": "2d7be03c",
   "metadata": {},
   "outputs": [],
   "source": [
    "import pandas as pd\n",
    "import numpy as np"
   ]
  },
  {
   "cell_type": "markdown",
   "id": "670e3c65",
   "metadata": {},
   "source": [
    "### Creating our dataframe"
   ]
  },
  {
   "cell_type": "code",
   "execution_count": 15,
   "id": "9654a01f",
   "metadata": {},
   "outputs": [],
   "source": [
    "def get_data():\n",
    "    df = pd.DataFrame()\n",
    "    size = 10_000\n",
    "    df['age'] = np.random.randint(1,100,size)\n",
    "    df['time_in_bed'] = np.random.randint(0,9,size)\n",
    "    df['pct_sleeping'] = np.random.rand(size)\n",
    "    df['favourite_food'] = np.random.choice(['tacos','ice cream','pizza'], size)\n",
    "    df['hate_food'] = np.random.choice(['capsicum','spinach','beans'], size)\n",
    "    return df\n"
   ]
  },
  {
   "cell_type": "code",
   "execution_count": 14,
   "id": "2f7592f7",
   "metadata": {},
   "outputs": [
    {
     "data": {
      "text/html": [
       "<div>\n",
       "<style scoped>\n",
       "    .dataframe tbody tr th:only-of-type {\n",
       "        vertical-align: middle;\n",
       "    }\n",
       "\n",
       "    .dataframe tbody tr th {\n",
       "        vertical-align: top;\n",
       "    }\n",
       "\n",
       "    .dataframe thead th {\n",
       "        text-align: right;\n",
       "    }\n",
       "</style>\n",
       "<table border=\"1\" class=\"dataframe\">\n",
       "  <thead>\n",
       "    <tr style=\"text-align: right;\">\n",
       "      <th></th>\n",
       "      <th>age</th>\n",
       "      <th>time_in_bed</th>\n",
       "      <th>pct_sleeping</th>\n",
       "      <th>favourite_food</th>\n",
       "      <th>hate_food</th>\n",
       "    </tr>\n",
       "  </thead>\n",
       "  <tbody>\n",
       "    <tr>\n",
       "      <th>0</th>\n",
       "      <td>27</td>\n",
       "      <td>3</td>\n",
       "      <td>0.592964</td>\n",
       "      <td>pizza</td>\n",
       "      <td>beans</td>\n",
       "    </tr>\n",
       "    <tr>\n",
       "      <th>1</th>\n",
       "      <td>22</td>\n",
       "      <td>4</td>\n",
       "      <td>0.488367</td>\n",
       "      <td>ice cream</td>\n",
       "      <td>spinach</td>\n",
       "    </tr>\n",
       "    <tr>\n",
       "      <th>2</th>\n",
       "      <td>84</td>\n",
       "      <td>0</td>\n",
       "      <td>0.061941</td>\n",
       "      <td>pizza</td>\n",
       "      <td>beans</td>\n",
       "    </tr>\n",
       "    <tr>\n",
       "      <th>3</th>\n",
       "      <td>7</td>\n",
       "      <td>6</td>\n",
       "      <td>0.339335</td>\n",
       "      <td>ice cream</td>\n",
       "      <td>beans</td>\n",
       "    </tr>\n",
       "    <tr>\n",
       "      <th>4</th>\n",
       "      <td>94</td>\n",
       "      <td>3</td>\n",
       "      <td>0.701047</td>\n",
       "      <td>pizza</td>\n",
       "      <td>capsicum</td>\n",
       "    </tr>\n",
       "  </tbody>\n",
       "</table>\n",
       "</div>"
      ],
      "text/plain": [
       "   age  time_in_bed  pct_sleeping favourite_food hate_food\n",
       "0   27            3      0.592964          pizza     beans\n",
       "1   22            4      0.488367      ice cream   spinach\n",
       "2   84            0      0.061941          pizza     beans\n",
       "3    7            6      0.339335      ice cream     beans\n",
       "4   94            3      0.701047          pizza  capsicum"
      ]
     },
     "execution_count": 14,
     "metadata": {},
     "output_type": "execute_result"
    }
   ],
   "source": [
    "df.head()"
   ]
  },
  {
   "cell_type": "markdown",
   "id": "df14ee83",
   "metadata": {},
   "source": [
    "### The Problem:\n",
    "Reward Calculation:\n",
    "\n",
    "* If they were in bed for more than 5 hours AND they were sleeping more than 50% of the time, we give them their favourite food.\n",
    "\n",
    "  Otherwise, we give them their hate food.\n",
    "\n",
    "* If they are over 90 years old, we give them their favourite food regardless. \n"
   ]
  },
  {
   "cell_type": "code",
   "execution_count": 19,
   "id": "b29a2644",
   "metadata": {},
   "outputs": [],
   "source": [
    "def reward_calc(row):\n",
    "    if row['age'] >= 90:\n",
    "        return row['favourite_food']\n",
    "    if row['time_in_bed'] > 5 and row['pct_sleeping'] > 0.5:\n",
    "        return row['favourite_food']\n",
    "    return row['hate_food']"
   ]
  },
  {
   "cell_type": "markdown",
   "id": "0b2ee58a",
   "metadata": {},
   "source": [
    "Using Loops"
   ]
  },
  {
   "cell_type": "code",
   "execution_count": 20,
   "id": "ece6604c",
   "metadata": {},
   "outputs": [
    {
     "name": "stdout",
     "output_type": "stream",
     "text": [
      "798 ms ± 85.3 ms per loop (mean ± std. dev. of 7 runs, 1 loop each)\n"
     ]
    }
   ],
   "source": [
    "%%timeit\n",
    "df = get_data()\n",
    "for index, row in df.iterrows():\n",
    "    df: loc[index,'reward'] = reward_calc(row)"
   ]
  },
  {
   "cell_type": "markdown",
   "id": "4dd52034",
   "metadata": {},
   "source": [
    "Using apply function"
   ]
  },
  {
   "cell_type": "code",
   "execution_count": 23,
   "id": "671cc45d",
   "metadata": {},
   "outputs": [
    {
     "name": "stdout",
     "output_type": "stream",
     "text": [
      "317 ms ± 24.8 ms per loop (mean ± std. dev. of 7 runs, 1 loop each)\n"
     ]
    }
   ],
   "source": [
    "%%timeit\n",
    "df = get_data()\n",
    "df['reward'] = df.apply(reward_calc, axis = 1)"
   ]
  },
  {
   "cell_type": "markdown",
   "id": "11968820",
   "metadata": {},
   "source": [
    "Using Vecotrized functions"
   ]
  },
  {
   "cell_type": "code",
   "execution_count": 27,
   "id": "f2300ea9",
   "metadata": {},
   "outputs": [
    {
     "name": "stdout",
     "output_type": "stream",
     "text": [
      "12.2 ms ± 592 µs per loop (mean ± std. dev. of 7 runs, 100 loops each)\n"
     ]
    }
   ],
   "source": [
    "%%timeit\n",
    "df = get_data()\n",
    "df['reward'] = df['hate_food']\n",
    "\n",
    "df.loc[((df['time_in_bed'] > 5) & (df['pct_sleeping'] > 0.5)) \n",
    "       | (df['age'] >= 90), 'reward'] = df['favourite_food']"
   ]
  },
  {
   "cell_type": "markdown",
   "id": "1bc47a2a",
   "metadata": {},
   "source": [
    "### Plot Difference"
   ]
  },
  {
   "cell_type": "code",
   "execution_count": 30,
   "id": "6c65574b",
   "metadata": {},
   "outputs": [],
   "source": [
    "results = pd.DataFrame(\n",
    "    [\n",
    "        ['Loop',798,85.3],\n",
    "        ['Apply_func',317,24.8],\n",
    "        ['Vectorized',12.2,0.592]\n",
    "    ],\n",
    "    columns = ['type','mean','std']\n",
    ")"
   ]
  },
  {
   "cell_type": "code",
   "execution_count": 34,
   "id": "7233b8a0",
   "metadata": {},
   "outputs": [
    {
     "data": {
      "text/plain": [
       "<AxesSubplot:title={'center':'Time taken to Run reward_calc'}, xlabel='type'>"
      ]
     },
     "execution_count": 34,
     "metadata": {},
     "output_type": "execute_result"
    },
    {
     "data": {
      "image/png": "[encoded data removed]",
      "text/plain": [
       "<Figure size 640x480 with 1 Axes>"
      ]
     },
     "metadata": {},
     "output_type": "display_data"
    }
   ],
   "source": [
    "results.set_index('type').plot(kind = 'bar', title = 'Time taken to Run reward_calc')"
   ]
  },
  {
   "cell_type": "markdown",
   "id": "51bdae1b",
   "metadata": {},
   "source": [
    "## Conclusion:\n",
    "* As we can see, the time it took ot run each reward type, the huge jump was down by changing from loop to apply. But, we can also see that using vectorized functions made it even more faster.\n",
    "* **Key Conclusin**: Try to use vectoried functions as much as you can when writing functions on pandas."
   ]
  }
 ],
 "metadata": {
  "kernelspec": {
   "display_name": "Python 3 (ipykernel)",
   "language": "python",
   "name": "python3"
  },
  "language_info": {
   "codemirror_mode": {
    "name": "ipython",
    "version": 3
   },
   "file_extension": ".py",
   "mimetype": "text/x-python",
   "name": "python",
   "nbconvert_exporter": "python",
   "pygments_lexer": "ipython3",
   "version": "3.10.5"
  }
 },
 "nbformat": 4,
 "nbformat_minor": 5
}
